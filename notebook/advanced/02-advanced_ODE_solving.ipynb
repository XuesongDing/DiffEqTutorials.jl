{
 "cells": [
  {
   "cell_type": "markdown",
   "metadata": {},
   "source": [
    "# Solving Stiff Equations\n",
    "### Chris Rackauckas\n",
    "\n",
    "This tutorial is for getting into the extra features for solving stiff ordinary\n",
    "differential equations in an efficient manner. Solving stiff ordinary\n",
    "differential equations requires specializing the linear solver on properties of\n",
    "the Jacobian in order to cut down on the O(n^3) linear solve and the O(n^2)\n",
    "back-solves. Note that these same functions and controls also extend to stiff\n",
    "SDEs, DDEs, DAEs, etc.\n",
    "\n",
    "## Code Optimization for Differential Equations\n",
    "\n",
    "### Writing Efficient Code\n",
    "\n",
    "For a detailed tutorial on how to optimize one's DifferentialEquations.jl code,\n",
    "please see the\n",
    "[Optimizing DiffEq Code tutorial](http://tutorials.juliadiffeq.org/html/introduction/03-optimizing_diffeq_code.html).\n",
    "\n",
    "### Choosing a Good Solver\n",
    "\n",
    "Choosing a good solver is required for getting top notch speed. General\n",
    "recommendations can be found on the solver page (for example, the\n",
    "[ODE Solver Recommendations](https://docs.juliadiffeq.org/latest/solvers/ode_solve)).\n",
    "The current recommendations can be simplified to a Rosenbrock method\n",
    "(`Rosenbrock23` or `Rodas5`) for smaller (<50 ODEs) problems, ESDIRK methods\n",
    "for slightly larger (`TRBDF2` or `KenCarp4` for <2000 ODEs), and Sundials\n",
    "`CVODE_BDF` for even larger problems. `lsoda` from\n",
    "[LSODA.jl](https://github.com/rveltz/LSODA.jl) is generally worth a try.\n",
    "\n",
    "More details on the solver to choose can be found by benchmarking. See the\n",
    "[DiffEqBenchmarks](https://github.com/JuliaDiffEq/DiffEqBenchmarks.jl) to\n",
    "compare many solvers on many problems.\n",
    "\n",
    "### Check Out the Speed FAQ\n",
    "\n",
    "See [this FAQ](http://docs.juliadiffeq.org/latest/basics/faq.html#Performance-1)\n",
    "for information on common pitfalls and how to improve performance.\n",
    "\n",
    "### Setting Up Your Julia Installation for Speed\n",
    "\n",
    "Julia uses an underlying BLAS implementation for its matrix multiplications\n",
    "and factorizations. This library is automatically multithreaded and accelerates\n",
    "the internal linear algebra of DifferentialEquations.jl. However, for optimality,\n",
    "you should make sure that the number of BLAS threads that you are using matches\n",
    "the number of physical cores and not the number of logical cores. See\n",
    "[this issue for more details](https://github.com/JuliaLang/julia/issues/33409).\n",
    "\n",
    "To check the number of BLAS threads, use:"
   ]
  },
  {
   "cell_type": "code",
   "execution_count": 1,
   "metadata": {},
   "outputs": [
    {
     "data": {
      "text/plain": [
       "8"
      ]
     },
     "execution_count": 1,
     "metadata": {},
     "output_type": "execute_result"
    }
   ],
   "source": [
    "ccall((:openblas_get_num_threads64_, Base.libblas_name), Cint, ())"
   ]
  },
  {
   "cell_type": "markdown",
   "metadata": {},
   "source": [
    "If I want to set this directly to 4 threads, I would use:"
   ]
  },
  {
   "cell_type": "code",
   "execution_count": 2,
   "metadata": {},
   "outputs": [],
   "source": [
    "using LinearAlgebra\n",
    "LinearAlgebra.BLAS.set_num_threads(4)"
   ]
  },
  {
   "cell_type": "markdown",
   "metadata": {},
   "source": [
    "Additionally, in some cases Intel's MKL might be a faster BLAS than the standard\n",
    "BLAS that ships with Julia (OpenBLAS). To switch your BLAS implementation, you\n",
    "can use [MKL.jl](https://github.com/JuliaComputing/MKL.jl) which will accelerate\n",
    "the linear algebra routines. Please see the package for the limitations.\n",
    "\n",
    "### Use Accelerator Hardware\n",
    "\n",
    "When possible, use GPUs. If your ODE system is small and you need to solve it\n",
    "with very many different parameters, see the\n",
    "[ensembles interface](https://docs.juliadiffeq.org/latest/features/ensemble)\n",
    "and [DiffEqGPU.jl](https://github.com/JuliaDiffEq/DiffEqGPU.jl). If your problem\n",
    "is large, consider using a [CuArray](https://github.com/JuliaGPU/CuArrays.jl)\n",
    "for the state to allow for GPU-parallelism of the internal linear algebra.\n",
    "\n",
    "## Speeding Up Jacobian Calculations\n",
    "\n",
    "When one is using an implicit or semi-implicit differential equation solver,\n",
    "the Jacobian must be built at many iterations and this can be one of the most\n",
    "expensive steps. There are two pieces that must be optimized in order to reach\n",
    "maximal efficiency when solving stiff equations: the sparsity pattern and the\n",
    "construction of the Jacobian. The construction is filling the matrix\n",
    "`J` with values, while the sparsity pattern is what `J` to use.\n",
    "\n",
    "The sparsity pattern is given by a prototype matrix, the `jac_prototype`, which\n",
    "will be copied to be used as `J`. The default is for `J` to be a `Matrix`,\n",
    "i.e. a dense matrix. However, if you know the sparsity of your problem, then\n",
    "you can pass a different matrix type. For example, a `SparseMatrixCSC` will\n",
    "give a sparse matrix. Additionally, structured matrix types like `Tridiagonal`,\n",
    "`BandedMatrix` (from\n",
    "[BandedMatrices.jl](https://github.com/JuliaMatrices/BandedMatrices.jl)),\n",
    "`BlockBandedMatrix` (from\n",
    "[BlockBandedMatrices.jl](https://github.com/JuliaMatrices/BlockBandedMatrices.jl)),\n",
    "and more can be given. DifferentialEquations.jl will internally use this matrix\n",
    "type, making the factorizations faster by utilizing the specialized forms.\n",
    "\n",
    "For the construction, there are 3 ways to fill `J`:\n",
    "\n",
    "- The default, which uses normal finite/automatic differentiation\n",
    "- A function `jac(J,u,p,t)` which directly computes the values of `J`\n",
    "- A `colorvec` which defines a sparse differentiation scheme.\n",
    "\n",
    "We will now showcase how to make use of this functionality with growing complexity.\n",
    "\n",
    "### Declaring Jacobian Functions\n",
    "\n",
    "Let's solve the Rosenbrock equations:\n",
    "\n",
    "$$\\begin{align}\n",
    "dy_1 &= -0.04y₁ + 10^4 y_2 y_3 \\\\\n",
    "dy_2 &= 0.04 y_1 - 10^4 y_2 y_3 - 3*10^7 y_{2}^2 \\\\\n",
    "dy_3 &= 3*10^7 y_{3}^2 \\\\\n",
    "\\end{align}$$\n",
    "\n",
    "In order to reduce the Jacobian construction cost, one can describe a Jacobian\n",
    "function by using the `jac` argument for the `ODEFunction`. First, let's do\n",
    "a standard `ODEProblem`:"
   ]
  },
  {
   "cell_type": "code",
   "execution_count": 3,
   "metadata": {},
   "outputs": [
    {
     "name": "stderr",
     "output_type": "stream",
     "text": [
      "┌ Info: Recompiling stale cache file /Users/xuesongding/.julia/compiled/v1.0/DifferentialEquations/UQdwS.ji for DifferentialEquations [0c46a032-eb83-5123-abaf-570d42b7fbaa]\n",
      "└ @ Base loading.jl:1190\n",
      "WARNING: Method definition vec(Number) in module DiffEqDiffTools at /Users/xuesongding/.julia/packages/DiffEqDiffTools/uD0fb/src/jacobians.jl:114 overwritten in module FiniteDiff at /Users/xuesongding/.julia/packages/FiniteDiff/EBys0/src/jacobians.jl:128.\n"
     ]
    },
    {
     "ename": "ArgumentError",
     "evalue": "ArgumentError: Package Plots [91a5bcdd-55d7-5caf-9e0b-520d859cae80] is required but does not seem to be installed:\n - Run `Pkg.instantiate()` to install all recorded dependencies.\n",
     "output_type": "error",
     "traceback": [
      "ArgumentError: Package Plots [91a5bcdd-55d7-5caf-9e0b-520d859cae80] is required but does not seem to be installed:\n - Run `Pkg.instantiate()` to install all recorded dependencies.\n",
      "",
      "Stacktrace:",
      " [1] _require(::Base.PkgId) at ./loading.jl:929",
      " [2] require(::Base.PkgId) at ./loading.jl:858",
      " [3] require(::Module, ::Symbol) at ./loading.jl:853",
      " [4] top-level scope at In[3]:12"
     ]
    }
   ],
   "source": [
    "using DifferentialEquations\n",
    "function rober(du,u,p,t)\n",
    "  y₁,y₂,y₃ = u\n",
    "  k₁,k₂,k₃ = p\n",
    "  du[1] = -k₁*y₁+k₃*y₂*y₃\n",
    "  du[2] =  k₁*y₁-k₂*y₂^2-k₃*y₂*y₃\n",
    "  du[3] =  k₂*y₂^2\n",
    "  nothing\n",
    "end\n",
    "prob = ODEProblem(rober,[1.0,0.0,0.0],(0.0,1e5),(0.04,3e7,1e4))\n",
    "sol = solve(prob,Rosenbrock23())\n",
    "\n",
    "using Plots\n",
    "plot(sol, xscale=:log10, tspan=(1e-6, 1e5), layout=(3,1))"
   ]
  },
  {
   "cell_type": "code",
   "execution_count": null,
   "metadata": {},
   "outputs": [],
   "source": [
    "using BenchmarkTools\n",
    "@btime solve(prob)"
   ]
  },
  {
   "cell_type": "markdown",
   "metadata": {},
   "source": [
    "Now we want to add the Jacobian. First we have to derive the Jacobian\n",
    "$\\frac{df_i}{du_j}$ which is `J[i,j]`. From this we get:"
   ]
  },
  {
   "cell_type": "code",
   "execution_count": null,
   "metadata": {},
   "outputs": [],
   "source": [
    "function rober_jac(J,u,p,t)\n",
    "  y₁,y₂,y₃ = u\n",
    "  k₁,k₂,k₃ = p\n",
    "  J[1,1] = k₁ * -1\n",
    "  J[2,1] = k₁\n",
    "  J[3,1] = 0\n",
    "  J[1,2] = y₃ * k₃\n",
    "  J[2,2] = y₂ * k₂ * -2 + y₃ * k₃ * -1\n",
    "  J[3,2] = y₂ * 2 * k₂\n",
    "  J[1,3] = k₃ * y₂\n",
    "  J[2,3] = k₃ * y₂ * -1\n",
    "  J[3,3] = 0\n",
    "  nothing\n",
    "end\n",
    "f = ODEFunction(rober, jac=rober_jac)\n",
    "prob_jac = ODEProblem(f,[1.0,0.0,0.0],(0.0,1e5),(0.04,3e7,1e4))\n",
    "\n",
    "@btime solve(prob_jac)"
   ]
  },
  {
   "cell_type": "markdown",
   "metadata": {},
   "source": [
    "### Automatic Derivation of Jacobian Functions\n",
    "\n",
    "But that was hard! If you want to take the symbolic Jacobian of numerical\n",
    "code, we can make use of [ModelingToolkit.jl](https://github.com/JuliaDiffEq/ModelingToolkit.jl)\n",
    "to symbolicify the numerical code and do the symbolic calculation and return\n",
    "the Julia code for this."
   ]
  },
  {
   "cell_type": "code",
   "execution_count": null,
   "metadata": {},
   "outputs": [],
   "source": [
    "using ModelingToolkit\n",
    "de = modelingtoolkitize(prob)\n",
    "ModelingToolkit.generate_jacobian(de...)[2] # Second is in-place"
   ]
  },
  {
   "cell_type": "markdown",
   "metadata": {},
   "source": [
    "which outputs:"
   ]
  },
  {
   "cell_type": "code",
   "execution_count": null,
   "metadata": {},
   "outputs": [],
   "source": [
    ":((##MTIIPVar#376, u, p, t)->begin\n",
    "          #= C:\\Users\\accou\\.julia\\packages\\ModelingToolkit\\czHtj\\src\\utils.jl:65 =#\n",
    "          #= C:\\Users\\accou\\.julia\\packages\\ModelingToolkit\\czHtj\\src\\utils.jl:66 =#\n",
    "          let (x₁, x₂, x₃, α₁, α₂, α₃) = (u[1], u[2], u[3], p[1], p[2], p[3])\n",
    "              ##MTIIPVar#376[1] = α₁ * -1\n",
    "              ##MTIIPVar#376[2] = α₁\n",
    "              ##MTIIPVar#376[3] = 0\n",
    "              ##MTIIPVar#376[4] = x₃ * α₃\n",
    "              ##MTIIPVar#376[5] = x₂ * α₂ * -2 + x₃ * α₃ * -1\n",
    "              ##MTIIPVar#376[6] = x₂ * 2 * α₂\n",
    "              ##MTIIPVar#376[7] = α₃ * x₂\n",
    "              ##MTIIPVar#376[8] = α₃ * x₂ * -1\n",
    "              ##MTIIPVar#376[9] = 0\n",
    "          end\n",
    "          #= C:\\Users\\accou\\.julia\\packages\\ModelingToolkit\\czHtj\\src\\utils.jl:67 =#\n",
    "          nothing\n",
    "      end)"
   ]
  },
  {
   "cell_type": "markdown",
   "metadata": {},
   "source": [
    "Now let's use that to give the analytical solution Jacobian:"
   ]
  },
  {
   "cell_type": "code",
   "execution_count": null,
   "metadata": {},
   "outputs": [],
   "source": [
    "jac = eval(ModelingToolkit.generate_jacobian(de...)[2])\n",
    "f = ODEFunction(rober, jac=jac)\n",
    "prob_jac = ODEProblem(f,[1.0,0.0,0.0],(0.0,1e5),(0.04,3e7,1e4))"
   ]
  },
  {
   "cell_type": "markdown",
   "metadata": {},
   "source": [
    "### Declaring a Sparse Jacobian\n",
    "\n",
    "Jacobian sparsity is declared by the `jac_prototype` argument in the `ODEFunction`.\n",
    "Note that you should only do this if the sparsity is high, for example, 0.1%\n",
    "of the matrix is non-zeros, otherwise the overhead of sparse matrices can be higher\n",
    "than the gains from sparse differentiation!\n",
    "\n",
    "But as a demonstration, let's build a sparse matrix for the Rober problem. We\n",
    "can do this by gathering the `I` and `J` pairs for the non-zero components, like:"
   ]
  },
  {
   "cell_type": "code",
   "execution_count": null,
   "metadata": {},
   "outputs": [],
   "source": [
    "I = [1,2,1,2,3,1,2]\n",
    "J = [1,1,2,2,2,3,3]\n",
    "using SparseArrays\n",
    "jac_prototype = sparse(I,J,1.0)"
   ]
  },
  {
   "cell_type": "markdown",
   "metadata": {},
   "source": [
    "Now this is the sparse matrix prototype that we want to use in our solver, which\n",
    "we then pass like:"
   ]
  },
  {
   "cell_type": "code",
   "execution_count": null,
   "metadata": {},
   "outputs": [],
   "source": [
    "f = ODEFunction(rober, jac=jac, jac_prototype=jac_prototype)\n",
    "prob_jac = ODEProblem(f,[1.0,0.0,0.0],(0.0,1e5),(0.04,3e7,1e4))"
   ]
  },
  {
   "cell_type": "markdown",
   "metadata": {},
   "source": [
    "### Automatic Sparsity Detection\n",
    "\n",
    "One of the useful companion tools for DifferentialEquations.jl is\n",
    "[SparsityDetection.jl](https://github.com/JuliaDiffEq/SparsityDetection.jl).\n",
    "This allows for automatic declaration of Jacobian sparsity types. To see this\n",
    "in action, let's look at the 2-dimensional Brusselator equation:"
   ]
  },
  {
   "cell_type": "code",
   "execution_count": null,
   "metadata": {},
   "outputs": [],
   "source": [
    "const N = 32\n",
    "const xyd_brusselator = range(0,stop=1,length=N)\n",
    "brusselator_f(x, y, t) = (((x-0.3)^2 + (y-0.6)^2) <= 0.1^2) * (t >= 1.1) * 5.\n",
    "limit(a, N) = a == N+1 ? 1 : a == 0 ? N : a\n",
    "function brusselator_2d_loop(du, u, p, t)\n",
    "  A, B, alpha, dx = p\n",
    "  alpha = alpha/dx^2\n",
    "  @inbounds for I in CartesianIndices((N, N))\n",
    "    i, j = Tuple(I)\n",
    "    x, y = xyd_brusselator[I[1]], xyd_brusselator[I[2]]\n",
    "    ip1, im1, jp1, jm1 = limit(i+1, N), limit(i-1, N), limit(j+1, N), limit(j-1, N)\n",
    "    du[i,j,1] = alpha*(u[im1,j,1] + u[ip1,j,1] + u[i,jp1,1] + u[i,jm1,1] - 4u[i,j,1]) +\n",
    "                B + u[i,j,1]^2*u[i,j,2] - (A + 1)*u[i,j,1] + brusselator_f(x, y, t)\n",
    "    du[i,j,2] = alpha*(u[im1,j,2] + u[ip1,j,2] + u[i,jp1,2] + u[i,jm1,2] - 4u[i,j,2]) +\n",
    "                A*u[i,j,1] - u[i,j,1]^2*u[i,j,2]\n",
    "    end\n",
    "end\n",
    "p = (3.4, 1., 10., step(xyd_brusselator))"
   ]
  },
  {
   "cell_type": "markdown",
   "metadata": {},
   "source": [
    "Given this setup, we can give and example `input` and `output` and call `sparsity!`\n",
    "on our function with the example arguments and it will kick out a sparse matrix\n",
    "with our pattern, that we can turn into our `jac_prototype`."
   ]
  },
  {
   "cell_type": "code",
   "execution_count": null,
   "metadata": {},
   "outputs": [],
   "source": [
    "using SparsityDetection, SparseArrays\n",
    "input = rand(32,32,2)\n",
    "output = similar(input)\n",
    "sparsity_pattern = sparsity!(brusselator_2d_loop,output,input,p,0.0)\n",
    "jac_sparsity = Float64.(sparse(sparsity_pattern))"
   ]
  },
  {
   "cell_type": "markdown",
   "metadata": {},
   "source": [
    "Let's double check what our sparsity pattern looks like:"
   ]
  },
  {
   "cell_type": "code",
   "execution_count": null,
   "metadata": {},
   "outputs": [],
   "source": [
    "using Plots\n",
    "spy(jac_sparsity,markersize=1,colorbar=false,color=:deep)"
   ]
  },
  {
   "cell_type": "markdown",
   "metadata": {},
   "source": [
    "That's neat, and would be tedius to build by hand! Now we just pass it to the\n",
    "`ODEFunction` like as before:"
   ]
  },
  {
   "cell_type": "code",
   "execution_count": null,
   "metadata": {},
   "outputs": [],
   "source": [
    "f = ODEFunction(brusselator_2d_loop;jac_prototype=jac_sparsity)"
   ]
  },
  {
   "cell_type": "markdown",
   "metadata": {},
   "source": [
    "Build the `ODEProblem`:"
   ]
  },
  {
   "cell_type": "code",
   "execution_count": null,
   "metadata": {},
   "outputs": [],
   "source": [
    "function init_brusselator_2d(xyd)\n",
    "  N = length(xyd)\n",
    "  u = zeros(N, N, 2)\n",
    "  for I in CartesianIndices((N, N))\n",
    "    x = xyd[I[1]]\n",
    "    y = xyd[I[2]]\n",
    "    u[I,1] = 22*(y*(1-y))^(3/2)\n",
    "    u[I,2] = 27*(x*(1-x))^(3/2)\n",
    "  end\n",
    "  u\n",
    "end\n",
    "u0 = init_brusselator_2d(xyd_brusselator)\n",
    "prob_ode_brusselator_2d = ODEProblem(brusselator_2d_loop,\n",
    "                                     u0,(0.,11.5),p)\n",
    "\n",
    "prob_ode_brusselator_2d_sparse = ODEProblem(f,\n",
    "                                     u0,(0.,11.5),p)"
   ]
  },
  {
   "cell_type": "markdown",
   "metadata": {},
   "source": [
    "Now let's see how the version with sparsity compares to the version without:"
   ]
  },
  {
   "cell_type": "code",
   "execution_count": null,
   "metadata": {},
   "outputs": [],
   "source": [
    "@btime solve(prob_ode_brusselator_2d,save_everystep=false)\n",
    "@btime solve(prob_ode_brusselator_2d_sparse,save_everystep=false)"
   ]
  },
  {
   "cell_type": "markdown",
   "metadata": {},
   "source": [
    "### Declaring Color Vectors for Fast Construction\n",
    "\n",
    "If you cannot directly define a Jacobian function, you can use the `colorvec`\n",
    "to speed up the Jacobian construction. What the `colorvec` does is allows for\n",
    "calculating multiple columns of a Jacobian simultaniously by using the sparsity\n",
    "pattern. An explanation of matrix coloring can be found in the\n",
    "[MIT 18.337 Lecture Notes](https://mitmath.github.io/18337/lecture9/stiff_odes).\n",
    "\n",
    "To perform general matrix coloring, we can use\n",
    "[SparseDiffTools.jl](https://github.com/JuliaDiffEq/SparseDiffTools.jl). For\n",
    "example, for the Brusselator equation:"
   ]
  },
  {
   "cell_type": "code",
   "execution_count": null,
   "metadata": {},
   "outputs": [],
   "source": [
    "using SparseDiffTools\n",
    "colorvec = matrix_colors(jac_sparsity)\n",
    "@show maximum(colorvec)"
   ]
  },
  {
   "cell_type": "markdown",
   "metadata": {},
   "source": [
    "This means that we can now calculate the Jacobian in 12 function calls. This is\n",
    "a nice reduction from 2048 using only automated tooling! To now make use of this\n",
    "inside of the ODE solver, you simply need to declare the colorvec:"
   ]
  },
  {
   "cell_type": "code",
   "execution_count": null,
   "metadata": {},
   "outputs": [],
   "source": [
    "f = ODEFunction(brusselator_2d_loop;jac_prototype=jac_sparsity,\n",
    "                                    colorvec=colorvec)\n",
    "prob_ode_brusselator_2d_sparse = ODEProblem(f,\n",
    "                                     init_brusselator_2d(xyd_brusselator),\n",
    "                                     (0.,11.5),p)\n",
    "@btime solve(prob_ode_brusselator_2d_sparse,save_everystep=false)"
   ]
  },
  {
   "cell_type": "markdown",
   "metadata": {},
   "source": [
    "Notice the massive speed enhancement!\n",
    "\n",
    "## Defining Linear Solver Routines and Jacobian-Free Newton-Krylov\n",
    "\n",
    "A completely different way to optimize the linear solvers for large sparse\n",
    "matrices is to use a Krylov subpsace method. This requires choosing a linear\n",
    "solver for changing to a Krylov method. Optionally, one can use a Jacobian-free\n",
    "operator to reduce the memory requirements.\n",
    "\n",
    "### Declaring a Jacobian-Free Newton-Krylov Implementation\n",
    "\n",
    "To swap the linear solver out, we use the `linsolve` command and choose the\n",
    "GMRES linear solver."
   ]
  },
  {
   "cell_type": "code",
   "execution_count": null,
   "metadata": {},
   "outputs": [],
   "source": [
    "@btime solve(prob_ode_brusselator_2d,TRBDF2(linsolve=LinSolveGMRES()),save_everystep=false)\n",
    "@btime solve(prob_ode_brusselator_2d_sparse,TRBDF2(linsolve=LinSolveGMRES()),save_everystep=false)"
   ]
  },
  {
   "cell_type": "markdown",
   "metadata": {},
   "source": [
    "For more information on linear solver choices, see the\n",
    "[linear solver documentation](https://docs.juliadiffeq.org/latest/features/linear_nonlinear).\n",
    "\n",
    "On this problem, handling the sparsity correctly seemed to give much more of a\n",
    "speedup than going to a Krylov approach, but that can be dependent on the problem\n",
    "(and whether a good preconditioner is found).\n",
    "\n",
    "We can also enhance this by using a Jacobian-Free implementation of `f'(x)*v`.\n",
    "To define the Jacobian-Free operator, we can use\n",
    "[DiffEqOperators.jl](https://github.com/JuliaDiffEq/DiffEqOperators.jl) to generate\n",
    "an operator `JacVecOperator` such that `Jv*v` performs `f'(x)*v` without building\n",
    "the Jacobian matrix."
   ]
  },
  {
   "cell_type": "code",
   "execution_count": null,
   "metadata": {},
   "outputs": [],
   "source": [
    "using DiffEqOperators\n",
    "Jv = JacVecOperator(brusselator_2d_loop,u0,p,0.0)"
   ]
  },
  {
   "cell_type": "markdown",
   "metadata": {},
   "source": [
    "and then we can use this by making it our `jac_prototype`:"
   ]
  },
  {
   "cell_type": "code",
   "execution_count": null,
   "metadata": {},
   "outputs": [],
   "source": [
    "f = ODEFunction(brusselator_2d_loop;jac_prototype=Jv)\n",
    "prob_ode_brusselator_2d_jacfree = ODEProblem(f,u0,(0.,11.5),p)\n",
    "@btime solve(prob_ode_brusselator_2d_jacfree,TRBDF2(linsolve=LinSolveGMRES()),save_everystep=false)"
   ]
  },
  {
   "cell_type": "markdown",
   "metadata": {},
   "source": [
    "### Adding a Preconditioner\n",
    "\n",
    "The [linear solver documentation](https://docs.juliadiffeq.org/latest/features/linear_nonlinear/#iterativesolvers-jl-1)\n",
    "shows how you can add a preconditioner to the GMRES. For example, you can\n",
    "use packages like [AlgebraicMultigrid.jl](https://github.com/JuliaLinearAlgebra/AlgebraicMultigrid.jl)\n",
    "to add an algebraic multigrid (AMG) or [IncompleteLU.jl](https://github.com/haampie/IncompleteLU.jl)\n",
    "for an incomplete LU-factorization (iLU)."
   ]
  },
  {
   "cell_type": "code",
   "execution_count": null,
   "metadata": {},
   "outputs": [],
   "source": [
    "using AlgebraicMultigrid\n",
    "pc = aspreconditioner(ruge_stuben(jac_sparsity))\n",
    "@btime solve(prob_ode_brusselator_2d_jacfree,TRBDF2(linsolve=LinSolveGMRES(Pl=pc)),save_everystep=false)"
   ]
  },
  {
   "cell_type": "markdown",
   "metadata": {},
   "source": [
    "## Using Structured Matrix Types\n",
    "\n",
    "If your sparsity pattern follows a specific structure, for example a banded\n",
    "matrix, then you can declare `jac_prototype` to be of that structure and then\n",
    "additional optimizations will come for free. Note that in this case, it is\n",
    "not necessary to provide a `colorvec` since the color vector will be analytically\n",
    "derived from the structure of the matrix.\n",
    "\n",
    "The matrices which are allowed are those which satisfy the\n",
    "[ArrayInterface.jl](https://github.com/JuliaDiffEq/ArrayInterface.jl) interface\n",
    "for automatically-colorable matrices. These include:\n",
    "\n",
    "- Bidiagonal\n",
    "- Tridiagonal\n",
    "- SymTridiagonal\n",
    "- BandedMatrix ([BandedMatrices.jl](https://github.com/JuliaMatrices/BandedMatrices.jl))\n",
    "- BlockBandedMatrix ([BlockBandedMatrices.jl](https://github.com/JuliaMatrices/BlockBandedMatrices.jl))\n",
    "\n",
    "Matrices which do not satisfy this interface can still be used, but the matrix\n",
    "coloring will not be automatic, and an appropriate linear solver may need to\n",
    "be given (otherwise it will default to attempting an LU-decomposition).\n",
    "\n",
    "## Sundials-Specific Handling\n",
    "\n",
    "While much of the setup makes the transition to using Sundials automatic, there\n",
    "are some differences between the pure Julia implementations and the Sundials\n",
    "implementations which must be taken note of. These are all detailed in the\n",
    "[Sundials solver documentation](https://docs.juliadiffeq.org/latest/solvers/ode_solve/#ode_solve_sundials-1),\n",
    "but here we will highlight the main details which one should make note of.\n",
    "\n",
    "Defining a sparse matrix and a Jacobian for Sundials works just like any other\n",
    "package. The core difference is in the choice of the linear solver. With Sundials,\n",
    "the linear solver choice is done with a Symbol in the `linear_solver` from a\n",
    "preset list. Particular choices of note are `:Band` for a banded matrix and\n",
    "`:GMRES` for using GMRES. If you are using Sundials, `:GMRES` will not require\n",
    "defining the JacVecOperator, and instead will always make use of a Jacobian-Free\n",
    "Newton Krylov (with numerical differentiation). Thus on this problem we could do:"
   ]
  },
  {
   "cell_type": "code",
   "execution_count": null,
   "metadata": {},
   "outputs": [],
   "source": [
    "using Sundials\n",
    "# Sparse Version\n",
    "@btime solve(prob_ode_brusselator_2d_sparse,CVODE_BDF(),save_everystep=false)\n",
    "# GMRES Version: Doesn't require any extra stuff!\n",
    "@btime solve(prob_ode_brusselator_2d,CVODE_BDF(linear_solver=:GMRES),save_everystep=false)"
   ]
  },
  {
   "cell_type": "markdown",
   "metadata": {},
   "source": [
    "Details for setting up a preconditioner with Sundials can be found at the\n",
    "[Sundials solver page](https://docs.juliadiffeq.org/latest/solvers/ode_solve/#ode_solve_sundials-1).\n",
    "\n",
    "## Handling Mass Matrices\n",
    "\n",
    "Instead of just defining an ODE as $u' = f(u,p,t)$, it can be common to express\n",
    "the differential equation in the form with a mass matrix:\n",
    "\n",
    "$$Mu' = f(u,p,t)$$\n",
    "\n",
    "where $M$ is known as the mass matrix. Let's solve the Robertson equation.\n",
    "At the top we wrote this equation as:\n",
    "\n",
    "$$\\begin{align}\n",
    "dy_1 &= -0.04y₁ + 10^4 y_2 y_3 \\\\\n",
    "dy_2 &= 0.04 y_1 - 10^4 y_2 y_3 - 3*10^7 y_{2}^2 \\\\\n",
    "dy_3 &= 3*10^7 y_{3}^2 \\\\\n",
    "\\end{align}$$\n",
    "\n",
    "But we can instead write this with a conservation relation:\n",
    "\n",
    "$$\\begin{align}\n",
    "dy_1 &= -0.04y₁ + 10^4 y_2 y_3 \\\\\n",
    "dy_2 &= 0.04 y_1 - 10^4 y_2 y_3 - 3*10^7 y_{2}^2 \\\\\n",
    "1 &=  y_{1} + y_{2} + y_{3} \\\\\n",
    "\\end{align}$$\n",
    "\n",
    "In this form, we can write this as a mass matrix ODE where $M$ is singular\n",
    "(this is another form of a differential-algebraic equation (DAE)). Here, the\n",
    "last row of `M` is just zero. We can implement this form as:"
   ]
  },
  {
   "cell_type": "code",
   "execution_count": null,
   "metadata": {},
   "outputs": [],
   "source": [
    "using DifferentialEquations\n",
    "function rober(du,u,p,t)\n",
    "  y₁,y₂,y₃ = u\n",
    "  k₁,k₂,k₃ = p\n",
    "  du[1] = -k₁*y₁+k₃*y₂*y₃\n",
    "  du[2] =  k₁*y₁-k₂*y₂^2-k₃*y₂*y₃\n",
    "  du[3] =  y₁ + y₂ + y₃ - 1\n",
    "  nothing\n",
    "end\n",
    "M = [1. 0  0\n",
    "     0  1. 0\n",
    "     0  0  0]\n",
    "f = ODEFunction(rober,mass_matrix=M)\n",
    "prob_mm = ODEProblem(f,[1.0,0.0,0.0],(0.0,1e5),(0.04,3e7,1e4))\n",
    "sol = solve(prob_mm,Rodas5())\n",
    "\n",
    "plot(sol, xscale=:log10, tspan=(1e-6, 1e5), layout=(3,1))"
   ]
  },
  {
   "cell_type": "markdown",
   "metadata": {},
   "source": [
    "Note that if your mass matrix is singular, i.e. your system is a DAE, then you\n",
    "need to make sure you choose\n",
    "[a solver that is compatible with DAEs](https://docs.juliadiffeq.org/latest/solvers/dae_solve/#dae_solve_full-1)"
   ]
  }
 ],
 "metadata": {
  "kernelspec": {
   "display_name": "Julia 1.0.5",
   "language": "julia",
   "name": "julia-1.0"
  },
  "language_info": {
   "file_extension": ".jl",
   "mimetype": "application/julia",
   "name": "julia",
   "version": "1.0.5"
  }
 },
 "nbformat": 4,
 "nbformat_minor": 2
}
